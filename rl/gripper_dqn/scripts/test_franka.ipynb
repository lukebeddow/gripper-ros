{
 "cells": [
  {
   "cell_type": "code",
   "execution_count": 33,
   "metadata": {},
   "outputs": [],
   "source": [
    "import numpy as np\n",
    "import sys\n",
    "\n",
    "# insert the franka_interface path\n",
    "sys.path.insert(0, \"/home/luke/franka_interface/build\")\n",
    "\n",
    "import pyfranka_interface\n",
    "\n",
    "# create franka controller instance\n",
    "franka = pyfranka_interface.Robot_(\"172.16.0.2\", False, False)\n",
    "\n",
    "# create identity matrix (must be floats!)\n",
    "T = np.array(\n",
    "  [[1,0,0,0],\n",
    "  [0,1,0,0],\n",
    "  [0,0,1,0],\n",
    "  [0,0,0,1]],\n",
    "  dtype=np.float\n",
    ")\n",
    "\n",
    "# create up and down matrices\n",
    "move = 10e-3\n",
    "up = np.copy(T)\n",
    "down = np.copy(T)\n",
    "up[2,3] = move\n",
    "down[2, 3] = -move\n",
    "\n",
    "# define duration in seconds\n",
    "duration = 0.5"
   ]
  },
  {
   "cell_type": "code",
   "execution_count": 31,
   "metadata": {},
   "outputs": [],
   "source": [
    "franka.move(\"relative\", up, duration)"
   ]
  },
  {
   "cell_type": "code",
   "execution_count": 32,
   "metadata": {},
   "outputs": [],
   "source": [
    "franka.move(\"relative\", down, duration)"
   ]
  },
  {
   "cell_type": "code",
   "execution_count": 25,
   "metadata": {},
   "outputs": [
    {
     "name": "stdout",
     "output_type": "stream",
     "text": [
      "Joint state is [-0.05526356, 0.41379487, -0.02496675, -1.07801807, 0.00540019, 1.46142950, 0.82228165]\n"
     ]
    }
   ],
   "source": [
    "state = franka.getState()\n",
    "\n",
    "vec_str = \"[{0:.8f}, {1:.8f}, {2:.8f}, {3:.8f}, {4:.8f}, {5:.8f}, {6:.8f}]\".format(*state.q)\n",
    "\n",
    "print(\"Joint state is\", vec_str)"
   ]
  },
  {
   "cell_type": "code",
   "execution_count": 24,
   "metadata": {},
   "outputs": [],
   "source": [
    "# new calibrations 7/2/23 (0=firm touching neoprene, -6mm=possible, -8mm=failure)\n",
    "target_0_mm = [-0.05360574, 0.36224426, -0.02498490, -1.28254861, 0.00438162, 1.61758563, 0.82279294]\n",
    "target_10_mm = [-0.05384081, 0.37038012, -0.02496675, -1.24878968, 0.00448761, 1.58849793, 0.82276331]\n",
    "target_20_mm = [-0.05406938, 0.37825387, -0.02496313, -1.21092717, 0.00463154, 1.55859002, 0.82265671]\n",
    "target_30_mm = [-0.05441660, 0.38795699, -0.02496313, -1.17022414, 0.00483431, 1.52763658, 0.82253542]\n",
    "target_40_mm = [-0.05480234, 0.39970210, -0.02496146, -1.12615559, 0.00508573, 1.49539334, 0.82241654]\n",
    "target_50_mm = [-0.05526356, 0.41379487, -0.02496675, -1.07801807, 0.00540019, 1.46142950, 0.82228165]\n",
    "\n",
    "speed_factor = 0.1 # 0.1 is slow movements\n",
    "\n",
    "if True:\n",
    "  # DANGER - DURATION IS ACTUALLY SPEED FACTOR!!!\n",
    "  franka.move_joints(target_10_mm, speed_factor)"
   ]
  }
 ],
 "metadata": {
  "kernelspec": {
   "display_name": "Python 3.6.9 64-bit",
   "language": "python",
   "name": "python3"
  },
  "language_info": {
   "codemirror_mode": {
    "name": "ipython",
    "version": 3
   },
   "file_extension": ".py",
   "mimetype": "text/x-python",
   "name": "python",
   "nbconvert_exporter": "python",
   "pygments_lexer": "ipython3",
   "version": "3.6.9"
  },
  "orig_nbformat": 4,
  "vscode": {
   "interpreter": {
    "hash": "31f2aee4e71d21fbe5cf8b01ff0e069b9275f58929596ceb00d14d90e3e16cd6"
   }
  }
 },
 "nbformat": 4,
 "nbformat_minor": 2
}
