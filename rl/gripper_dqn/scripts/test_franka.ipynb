{
 "cells": [
  {
   "cell_type": "code",
   "execution_count": 1,
   "metadata": {},
   "outputs": [],
   "source": [
    "import numpy as np\n",
    "import sys\n",
    "\n",
    "# insert the franka_interface path\n",
    "sys.path.insert(0, \"/home/luke/franka_interface/build\")\n",
    "\n",
    "import pyfranka_interface\n",
    "\n",
    "# create franka controller instance\n",
    "franka = pyfranka_interface.Robot_(\"172.16.0.2\", False, False)"
   ]
  },
  {
   "cell_type": "code",
   "execution_count": 2,
   "metadata": {},
   "outputs": [],
   "source": [
    "# create identity matrix (must be floats!)\n",
    "T = np.array(\n",
    "  [[1,0,0,0],\n",
    "  [0,1,0,0],\n",
    "  [0,0,1,0],\n",
    "  [0,0,0,1]],\n",
    "  dtype=np.float\n",
    ")\n",
    "\n",
    "# create up and down matrices\n",
    "move = 10e-3\n",
    "up = np.copy(T)\n",
    "down = np.copy(T)\n",
    "up[2,3] = move\n",
    "down[2, 3] = -move\n",
    "\n",
    "# define duration in seconds\n",
    "duration = 0.6"
   ]
  },
  {
   "cell_type": "code",
   "execution_count": 22,
   "metadata": {},
   "outputs": [],
   "source": [
    "franka.move(\"relative\", up, duration)"
   ]
  },
  {
   "cell_type": "code",
   "execution_count": 12,
   "metadata": {},
   "outputs": [],
   "source": [
    "franka.move(\"relative\", down, duration)"
   ]
  }
 ],
 "metadata": {
  "kernelspec": {
   "display_name": "Python 3.6.9 64-bit",
   "language": "python",
   "name": "python3"
  },
  "language_info": {
   "codemirror_mode": {
    "name": "ipython",
    "version": 3
   },
   "file_extension": ".py",
   "mimetype": "text/x-python",
   "name": "python",
   "nbconvert_exporter": "python",
   "pygments_lexer": "ipython3",
   "version": "3.6.9"
  },
  "orig_nbformat": 4,
  "vscode": {
   "interpreter": {
    "hash": "31f2aee4e71d21fbe5cf8b01ff0e069b9275f58929596ceb00d14d90e3e16cd6"
   }
  }
 },
 "nbformat": 4,
 "nbformat_minor": 2
}
