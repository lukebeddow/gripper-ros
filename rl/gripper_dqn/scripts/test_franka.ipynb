{
 "cells": [
  {
   "cell_type": "code",
   "execution_count": 57,
   "metadata": {},
   "outputs": [],
   "source": [
    "import numpy as np\n",
    "import sys\n",
    "\n",
    "# insert the franka_interface path\n",
    "sys.path.insert(0, \"/home/luke/franka_interface/build\")\n",
    "\n",
    "import pyfranka_interface\n",
    "\n",
    "# create franka controller instance\n",
    "franka = pyfranka_interface.Robot_(\"172.16.0.2\", False, False)\n",
    "\n",
    "# create identity matrix (must be floats!)\n",
    "T = np.array(\n",
    "  [[1,0,0,0],\n",
    "  [0,1,0,0],\n",
    "  [0,0,1,0],\n",
    "  [0,0,0,1]],\n",
    "  dtype=np.float\n",
    ")\n",
    "\n",
    "# create up and down matrices\n",
    "move = 2e-3\n",
    "up = np.copy(T)\n",
    "down = np.copy(T)\n",
    "up[2,3] = move\n",
    "down[2, 3] = -move\n",
    "\n",
    "# define duration in seconds\n",
    "duration = 0.5"
   ]
  },
  {
   "cell_type": "code",
   "execution_count": 49,
   "metadata": {},
   "outputs": [],
   "source": [
    "franka.move(\"relative\", up, duration)"
   ]
  },
  {
   "cell_type": "code",
   "execution_count": 55,
   "metadata": {},
   "outputs": [
    {
     "ename": "RuntimeError",
     "evalue": "libfranka: Move command aborted: motion aborted by reflex! [\"cartesian_reflex\"]\ncontrol_command_success_rate: 0.96",
     "output_type": "error",
     "traceback": [
      "\u001b[0;31m---------------------------------------------------------------------------\u001b[0m",
      "\u001b[0;31mRuntimeError\u001b[0m                              Traceback (most recent call last)",
      "\u001b[0;32m<ipython-input-55-0400a433cdee>\u001b[0m in \u001b[0;36m<module>\u001b[0;34m\u001b[0m\n\u001b[0;32m----> 1\u001b[0;31m \u001b[0mfranka\u001b[0m\u001b[0;34m.\u001b[0m\u001b[0mmove\u001b[0m\u001b[0;34m(\u001b[0m\u001b[0;34m\"relative\"\u001b[0m\u001b[0;34m,\u001b[0m \u001b[0mdown\u001b[0m\u001b[0;34m,\u001b[0m \u001b[0mduration\u001b[0m\u001b[0;34m)\u001b[0m\u001b[0;34m\u001b[0m\u001b[0;34m\u001b[0m\u001b[0m\n\u001b[0m",
      "\u001b[0;31mRuntimeError\u001b[0m: libfranka: Move command aborted: motion aborted by reflex! [\"cartesian_reflex\"]\ncontrol_command_success_rate: 0.96"
     ]
    }
   ],
   "source": [
    "franka.move(\"relative\", down, duration)"
   ]
  },
  {
   "cell_type": "code",
   "execution_count": 47,
   "metadata": {},
   "outputs": [
    {
     "name": "stdout",
     "output_type": "stream",
     "text": [
      "Joint state is [-0.05767118, 0.47588157, -0.01888209, -1.07310271, 0.01091761, 1.52457547, 0.74958462]\n"
     ]
    }
   ],
   "source": [
    "state = franka.getState()\n",
    "\n",
    "vec_str = \"[{0:.8f}, {1:.8f}, {2:.8f}, {3:.8f}, {4:.8f}, {5:.8f}, {6:.8f}]\".format(*state.q)\n",
    "\n",
    "print(\"Joint state is\", vec_str)"
   ]
  },
  {
   "cell_type": "code",
   "execution_count": 48,
   "metadata": {},
   "outputs": [],
   "source": [
    "# new calibrations 7/2/23 (0=firm touching neoprene, -6mm=possible, -8mm=failure)\n",
    "target_0_mm = [-0.05360574, 0.36224426, -0.02498490, -1.28254861, 0.00438162, 1.61758563, 0.82279294]\n",
    "target_10_mm = [-0.05384081, 0.37038012, -0.02496675, -1.24878968, 0.00448761, 1.58849793, 0.82276331]\n",
    "target_20_mm = [-0.05406938, 0.37825387, -0.02496313, -1.21092717, 0.00463154, 1.55859002, 0.82265671]\n",
    "target_30_mm = [-0.05441660, 0.38795699, -0.02496313, -1.17022414, 0.00483431, 1.52763658, 0.82253542]\n",
    "target_40_mm = [-0.05480234, 0.39970210, -0.02496146, -1.12615559, 0.00508573, 1.49539334, 0.82241654]\n",
    "target_50_mm = [-0.05526356, 0.41379487, -0.02496675, -1.07801807, 0.00540019, 1.46142950, 0.82228165]\n",
    "\n",
    "# new calibrations 7/2/23 (0=heavy pressing neoprene, 6mm=all fingers touch, 8mm=one finger touch)\n",
    "target_0_mm = [-0.05729721, 0.44813500, -0.01868246, -1.16124221, 0.01145007, 1.59530507, 0.74960478]\n",
    "target_10_mm = [-0.05750028, 0.45890245, -0.01874219, -1.12270452, 0.01126567, 1.56407914, 0.74961367]\n",
    "target_8_mm = [-0.05749069, 0.45744664, -0.01874915, -1.13056996, 0.01126260, 1.57004270, 0.74961327]\n",
    "target_6_mm = [-0.05748195, 0.45527213, -0.01875977, -1.13847211, 0.01124365, 1.57634083, 0.74961315]\n",
    "target_4_mm = [-0.05737708, 0.44986342, -0.01880465, -1.15299682, 0.01113276, 1.58881113, 0.74960072]\n",
    "target_2_mm = [-0.05737277, 0.44709925, -0.01881505, -1.15991900, 0.01112448, 1.59491923, 0.74959447]\n",
    "\n",
    "# new 0mm is @ 8mm above\n",
    "new_0_mm = [-0.05736815, 0.45885982, -0.01876041, -1.13191855, 0.01099079, 1.56983831, 0.74956970]\n",
    "new_2_mm = [-0.05737439, 0.46047147, -0.01875025, -1.12430958, 0.01100159, 1.56388907, 0.74956903]\n",
    "new_4_mm = [-0.05739482, 0.46253642, -0.01875387, -1.11599621, 0.01100374, 1.55756571, 0.74957605]\n",
    "new_6_mm = [-0.05751211, 0.46463015, -0.01875554, -1.10742017, 0.01101201, 1.55123021, 0.74958010]\n",
    "new_8_mm = [-0.05755324, 0.46684607, -0.01875387, -1.09881346, 0.01103526, 1.54480933, 0.74958314]\n",
    "new_10_mm = [-0.05760255, 0.46926905, -0.01875721, -1.09001171, 0.01106341, 1.53826451, 0.74958722]\n",
    "new_12_mm = [-0.05763645, 0.47334958, -0.01888476, -1.08222997, 0.01087975, 1.53125487, 0.74958493]\n",
    "new_14_mm = [-0.05767118, 0.47588157, -0.01888209, -1.07310271, 0.01091761, 1.52457547, 0.74958462]\n",
    "\n",
    "speed_factor = 0.1 # 0.1 is slow movements\n",
    "\n",
    "if True:\n",
    "  # DANGER - DURATION IS ACTUALLY SPEED FACTOR!!!\n",
    "  franka.move_joints(new_10_mm, speed_factor)"
   ]
  }
 ],
 "metadata": {
  "kernelspec": {
   "display_name": "Python 3.6.9 64-bit",
   "language": "python",
   "name": "python3"
  },
  "language_info": {
   "codemirror_mode": {
    "name": "ipython",
    "version": 3
   },
   "file_extension": ".py",
   "mimetype": "text/x-python",
   "name": "python",
   "nbconvert_exporter": "python",
   "pygments_lexer": "ipython3",
   "version": "3.6.9"
  },
  "orig_nbformat": 4,
  "vscode": {
   "interpreter": {
    "hash": "31f2aee4e71d21fbe5cf8b01ff0e069b9275f58929596ceb00d14d90e3e16cd6"
   }
  }
 },
 "nbformat": 4,
 "nbformat_minor": 2
}
