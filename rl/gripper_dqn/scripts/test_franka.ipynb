{
 "cells": [
  {
   "cell_type": "code",
   "execution_count": 98,
   "metadata": {},
   "outputs": [],
   "source": [
    "import numpy as np\n",
    "import sys\n",
    "\n",
    "# insert the franka_interface path\n",
    "sys.path.insert(0, \"/home/luke/franka_interface/build\")\n",
    "\n",
    "import pyfranka_interface\n",
    "\n",
    "# create franka controller instance\n",
    "franka = pyfranka_interface.Robot_(\"172.16.0.2\", False, False)\n",
    "\n",
    "# create identity matrix (must be floats!)\n",
    "T = np.array(\n",
    "  [[1,0,0,0],\n",
    "  [0,1,0,0],\n",
    "  [0,0,1,0],\n",
    "  [0,0,0,1]],\n",
    "  dtype=np.float\n",
    ")\n",
    "\n",
    "# create up and down matrices\n",
    "move = 10e-3\n",
    "up = np.copy(T)\n",
    "down = np.copy(T)\n",
    "up[2,3] = move\n",
    "down[2, 3] = -move\n",
    "\n",
    "# define duration in seconds\n",
    "duration = 0.6"
   ]
  },
  {
   "cell_type": "code",
   "execution_count": 100,
   "metadata": {},
   "outputs": [],
   "source": [
    "franka.move(\"relative\", up, duration)"
   ]
  },
  {
   "cell_type": "code",
   "execution_count": 88,
   "metadata": {},
   "outputs": [],
   "source": [
    "franka.move(\"relative\", down, duration)"
   ]
  },
  {
   "cell_type": "code",
   "execution_count": 53,
   "metadata": {},
   "outputs": [
    {
     "name": "stdout",
     "output_type": "stream",
     "text": [
      "Joint state is [-0.05073251  0.05984872  0.01510064 -1.56716055  0.00307441  1.57879036\n",
      "  0.84233036]\n"
     ]
    }
   ],
   "source": [
    "state = franka.getState()\n",
    "\n",
    "print(\"Joint state is\", state.q)"
   ]
  },
  {
   "cell_type": "code",
   "execution_count": 90,
   "metadata": {},
   "outputs": [],
   "source": [
    "target_state = [-0.05075001,  0.05096152,  0.01510398, -1.62959202,  0.00312379,  1.6323801, 0.842143] # 30mm\n",
    "# target_state = [0,  0.59357437,  0,  -0.81539377, 0,  1.33984816, 0.87735384] # 30mm\n",
    "\n",
    "speed_factor = 0.1 # 0.1 is slow movements\n",
    "\n",
    "if True:\n",
    "  # DANGER - DURATION IS ACTUALLY SPEED FACTOR!!!\n",
    "  franka.move_joints(target_state, speed_factor)"
   ]
  }
 ],
 "metadata": {
  "kernelspec": {
   "display_name": "Python 3.6.9 64-bit",
   "language": "python",
   "name": "python3"
  },
  "language_info": {
   "codemirror_mode": {
    "name": "ipython",
    "version": 3
   },
   "file_extension": ".py",
   "mimetype": "text/x-python",
   "name": "python",
   "nbconvert_exporter": "python",
   "pygments_lexer": "ipython3",
   "version": "3.6.9"
  },
  "orig_nbformat": 4,
  "vscode": {
   "interpreter": {
    "hash": "31f2aee4e71d21fbe5cf8b01ff0e069b9275f58929596ceb00d14d90e3e16cd6"
   }
  }
 },
 "nbformat": 4,
 "nbformat_minor": 2
}
