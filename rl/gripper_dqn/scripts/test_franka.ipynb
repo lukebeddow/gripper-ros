{
 "cells": [
  {
   "cell_type": "code",
   "execution_count": 3,
   "metadata": {},
   "outputs": [],
   "source": [
    "import numpy as np\n",
    "import sys\n",
    "import os\n",
    "\n",
    "# add the libfranka library, insert the franka_interface path, then import\n",
    "sys.path.insert(0, \"/home/luke/libs/franka/franka_interface/build\")\n",
    "import pyfranka_interface\n",
    "\n",
    "# create franka controller instance\n",
    "franka = pyfranka_interface.Robot_(\"172.16.0.2\", False, False)\n",
    "\n",
    "# create identity matrix (must be floats!)\n",
    "T = np.array(\n",
    "  [[1,0,0,0],\n",
    "  [0,1,0,0],\n",
    "  [0,0,1,0],\n",
    "  [0,0,0,1]],\n",
    "  dtype=np.float32\n",
    ")\n",
    "\n",
    "# create up and down matrices\n",
    "move = 2e-3\n",
    "up = np.copy(T)\n",
    "down = np.copy(T)\n",
    "up[2,3] = move\n",
    "down[2, 3] = -move\n",
    "\n",
    "# define duration in seconds\n",
    "duration = 0.75"
   ]
  },
  {
   "cell_type": "code",
   "execution_count": 11,
   "metadata": {},
   "outputs": [],
   "source": [
    "Z_POS = 14e-3"
   ]
  },
  {
   "cell_type": "code",
   "execution_count": 15,
   "metadata": {},
   "outputs": [],
   "source": [
    "move = 2e-3\n",
    "up[2,3] = move\n",
    "franka.move(\"relative\", up, duration * 2)\n",
    "Z_POS += move"
   ]
  },
  {
   "cell_type": "code",
   "execution_count": 58,
   "metadata": {},
   "outputs": [
    {
     "ename": "RuntimeError",
     "evalue": "libfranka: Move command aborted: motion aborted by reflex! [\"cartesian_reflex\"]\ncontrol_command_success_rate: 0.98",
     "output_type": "error",
     "traceback": [
      "\u001b[0;31m---------------------------------------------------------------------------\u001b[0m",
      "\u001b[0;31mRuntimeError\u001b[0m                              Traceback (most recent call last)",
      "\u001b[0;32m<ipython-input-58-20d02d0adfc4>\u001b[0m in \u001b[0;36m<module>\u001b[0;34m\u001b[0m\n\u001b[1;32m      1\u001b[0m \u001b[0mmove\u001b[0m \u001b[0;34m=\u001b[0m \u001b[0;36m2e-3\u001b[0m\u001b[0;34m\u001b[0m\u001b[0;34m\u001b[0m\u001b[0m\n\u001b[1;32m      2\u001b[0m \u001b[0mdown\u001b[0m\u001b[0;34m[\u001b[0m\u001b[0;36m2\u001b[0m\u001b[0;34m,\u001b[0m \u001b[0;36m3\u001b[0m\u001b[0;34m]\u001b[0m \u001b[0;34m=\u001b[0m \u001b[0;34m-\u001b[0m\u001b[0mmove\u001b[0m\u001b[0;34m\u001b[0m\u001b[0;34m\u001b[0m\u001b[0m\n\u001b[0;32m----> 3\u001b[0;31m \u001b[0mfranka\u001b[0m\u001b[0;34m.\u001b[0m\u001b[0mmove\u001b[0m\u001b[0;34m(\u001b[0m\u001b[0;34m\"relative\"\u001b[0m\u001b[0;34m,\u001b[0m \u001b[0mdown\u001b[0m\u001b[0;34m,\u001b[0m \u001b[0mduration\u001b[0m\u001b[0;34m)\u001b[0m\u001b[0;34m\u001b[0m\u001b[0;34m\u001b[0m\u001b[0m\n\u001b[0m\u001b[1;32m      4\u001b[0m \u001b[0mZ_POS\u001b[0m \u001b[0;34m-=\u001b[0m \u001b[0mmove\u001b[0m\u001b[0;34m\u001b[0m\u001b[0;34m\u001b[0m\u001b[0m\n",
      "\u001b[0;31mRuntimeError\u001b[0m: libfranka: Move command aborted: motion aborted by reflex! [\"cartesian_reflex\"]\ncontrol_command_success_rate: 0.98"
     ]
    }
   ],
   "source": [
    "move = 2e-3\n",
    "down[2, 3] = -move\n",
    "franka.move(\"relative\", down, duration)\n",
    "Z_POS -= move"
   ]
  },
  {
   "cell_type": "code",
   "execution_count": 16,
   "metadata": {},
   "outputs": [
    {
     "name": "stdout",
     "output_type": "stream",
     "text": [
      "cal_X_mm = [-0.10008061, 0.14495725, 0.05034800, -1.49751773, -0.02514845, 1.67480074, 0.82498541]\n",
      "cal_18_mm = [-0.10008061, 0.14495725, 0.05034800, -1.49751773, -0.02514845, 1.67480074, 0.82498541]\n"
     ]
    }
   ],
   "source": [
    "state = franka.getState()\n",
    "\n",
    "vec_str = \"[{0:.8f}, {1:.8f}, {2:.8f}, {3:.8f}, {4:.8f}, {5:.8f}, {6:.8f}]\".format(*state.q)\n",
    "\n",
    "print(\"cal_X_mm =\", vec_str)\n",
    "print(f\"cal_{Z_POS * 1000:.0f}_mm = {vec_str}\")"
   ]
  },
  {
   "cell_type": "code",
   "execution_count": 12,
   "metadata": {},
   "outputs": [],
   "source": [
    "# new calibrations 23/8/23 after robby, 4=initial touch, 0=v. firm, -2=fails\n",
    "cal_0_mm = [-0.10035520, 0.13415142, 0.05034569, -1.54992771, -0.02469004, 1.72361859, 0.82542563]\n",
    "cal_2_mm = [-0.10056089, 0.13577175, 0.05015793, -1.54504811, -0.02486288, 1.71835949, 0.82536323]\n",
    "cal_4_mm = [-0.10035362, 0.13717769, 0.05021119, -1.53977199, -0.02482598, 1.71273661, 0.82528626]\n",
    "cal_6_mm = [-0.10033584, 0.13799006, 0.05020785, -1.53366338, -0.02482757, 1.70740294, 0.82521534]\n",
    "cal_8_mm = [-0.10030479, 0.13879796, 0.05020785, -1.52739544, -0.02483351, 1.70205378, 0.82514384]\n",
    "cal_10_mm = [-0.10026742, 0.13964332, 0.05020785, -1.52111299, -0.02483833, 1.69663203, 0.82509060]\n",
    "cal_12_mm = [-0.10010887, 0.14053731, 0.05020618, -1.51491904, -0.02485414, 1.69118643, 0.82503248]\n",
    "cal_14_mm = [-0.10008372, 0.14145294, 0.05020689, -1.50854897, -0.02487740, 1.68574724, 0.82497343]\n",
    "cal_16_mm = [-0.10009843, 0.14394794, 0.05034595, -1.50397910, -0.02514773, 1.68020317, 0.82500312]\n",
    "cal_18_mm = [-0.10008061, 0.14495725, 0.05034800, -1.49751773, -0.02514845, 1.67480074, 0.82498541]\n",
    "cal_20_mm = [-0.09984404, 0.14450927, 0.05021104, -1.48895958, -0.02498154, 1.66937602, 0.82479887]\n",
    "cal_22_mm = [-0.09978971, 0.14561315, 0.05021104, -1.48238086, -0.02502815, 1.66385170, 0.82474018]\n",
    "cal_24_mm = [-0.09973385, 0.14679426, 0.05021104, -1.47564609, -0.02507226, 1.65830631, 0.82469641]\n",
    "cal_30_mm = [-0.09939829, 0.15055267, 0.05021104, -1.45520355, -0.02522195, 1.64158327, 0.82452868]\n",
    "cal_40_mm = [-0.09887780, 0.15779365, 0.05021104, -1.41944408, -0.02554731, 1.61325706, 0.82427793]\n",
    "cal_50_mm = [-0.09827859, 0.16623325, 0.05020937, -1.38209379, -0.02595346, 1.58428060, 0.82405011]\n",
    "\n",
    "speed_factor = 0.05 # 0.1 is slow movements, 0.01 is extremely slow\n",
    "\n",
    "if True: franka.move_joints(cal_14_mm, speed_factor)"
   ]
  }
 ],
 "metadata": {
  "kernelspec": {
   "display_name": "Python 3.6.9 64-bit",
   "language": "python",
   "name": "python3"
  },
  "language_info": {
   "codemirror_mode": {
    "name": "ipython",
    "version": 3
   },
   "file_extension": ".py",
   "mimetype": "text/x-python",
   "name": "python",
   "nbconvert_exporter": "python",
   "pygments_lexer": "ipython3",
   "version": "3.8.10"
  },
  "orig_nbformat": 4,
  "vscode": {
   "interpreter": {
    "hash": "31f2aee4e71d21fbe5cf8b01ff0e069b9275f58929596ceb00d14d90e3e16cd6"
   }
  }
 },
 "nbformat": 4,
 "nbformat_minor": 2
}
