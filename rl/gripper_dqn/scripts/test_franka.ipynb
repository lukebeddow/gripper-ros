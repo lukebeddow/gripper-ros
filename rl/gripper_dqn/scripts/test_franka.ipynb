{
 "cells": [
  {
   "cell_type": "code",
   "execution_count": 100,
   "metadata": {},
   "outputs": [],
   "source": [
    "import numpy as np\n",
    "import sys\n",
    "\n",
    "# insert the franka_interface path\n",
    "sys.path.insert(0, \"/home/luke/franka_interface/build\")\n",
    "\n",
    "import pyfranka_interface\n",
    "\n",
    "# create franka controller instance\n",
    "franka = pyfranka_interface.Robot_(\"172.16.0.2\", False, False)\n",
    "\n",
    "# create identity matrix (must be floats!)\n",
    "T = np.array(\n",
    "  [[1,0,0,0],\n",
    "  [0,1,0,0],\n",
    "  [0,0,1,0],\n",
    "  [0,0,0,1]],\n",
    "  dtype=np.float\n",
    ")\n",
    "\n",
    "# create up and down matrices\n",
    "move = 2e-3\n",
    "up = np.copy(T)\n",
    "down = np.copy(T)\n",
    "up[2,3] = move\n",
    "down[2, 3] = -move\n",
    "\n",
    "# define duration in seconds\n",
    "duration = 0.6"
   ]
  },
  {
   "cell_type": "code",
   "execution_count": 81,
   "metadata": {},
   "outputs": [],
   "source": [
    "franka.move(\"relative\", up, duration)"
   ]
  },
  {
   "cell_type": "code",
   "execution_count": 96,
   "metadata": {},
   "outputs": [],
   "source": [
    "franka.move(\"relative\", down, duration)"
   ]
  },
  {
   "cell_type": "code",
   "execution_count": 73,
   "metadata": {},
   "outputs": [
    {
     "name": "stdout",
     "output_type": "stream",
     "text": [
      "Joint state is [-0.05521145, 0.10445451, 0.00338282, -1.51400512, -0.00396877, 1.54619678, 0.84069480]\n"
     ]
    }
   ],
   "source": [
    "state = franka.getState()\n",
    "\n",
    "vec_str = \"[{0:.8f}, {1:.8f}, {2:.8f}, {3:.8f}, {4:.8f}, {5:.8f}, {6:.8f}]\".format(*state.q)\n",
    "\n",
    "print(\"Joint state is\", vec_str)"
   ]
  },
  {
   "cell_type": "code",
   "execution_count": 99,
   "metadata": {},
   "outputs": [],
   "source": [
    "\n",
    "# OLD: bottom position (touching desk) calibrated by hand, others got with +10mm motions\n",
    "target_10mm = [-0.05092702, 0.04565765, 0.01508147, -1.6872033, 0.00324706, 1.68476374, 0.84190218]\n",
    "target_20mm = [-0.05092259, 0.04778539, 0.01508953, -1.65900593, 0.00324699, 1.65879122, 0.84199118]\n",
    "target_30mm = [-0.05075001, 0.05096152, 0.01510398, -1.62959202, 0.00312379, 1.6323801, 0.842143]\n",
    "target_40mm = [-0.05073833, 0.05105601, 0.01510398, -1.62956611, 0.00312114, 1.63236365, 0.84214527]\n",
    "target_50mm = [-0.05073251, 0.05984872, 0.01510064, -1.56716055, 0.00307441, 1.57879036, 0.84233036]\n",
    "\n",
    "\"\"\"\n",
    "Heights calibrated by hand, all fingers put to touching table (0mm), then use +mm motions\n",
    "Fingers touch table: 0mm\n",
    "Fingers first touch neoprene: 10mm\n",
    "Fingers all touch neprene: 8mm\n",
    "Lowest height possible before controller aborts (with neoprene): 2mm\n",
    "\"\"\"\n",
    "target_0_mm = [-0.05509114, 0.08494865, 0.00358691, -1.67752536, -0.00399310, 1.69452373, 0.84098394]\n",
    "target_6_mm = [-0.05525132, 0.08799861, 0.00338449, -1.66332317, -0.00395840, 1.67866505, 0.84087103]\n",
    "target_10_mm = [-0.05515629, 0.08709929, 0.00346314, -1.65161046, -0.00396003, 1.66868245, 0.84094963]\n",
    "target_16_mm = [-0.05524815, 0.08916576, 0.00338449, -1.63632929, -0.00395717, 1.65315411, 0.84086777]\n",
    "target_20_mm = [-0.05515193, 0.08893368, 0.00346119, -1.62365382, -0.00396328, 1.64260790, 0.84088849]\n",
    "target_26_mm = [-0.05524827, 0.09149043, 0.00338449, -1.60776543, -0.00395930, 1.62693296, 0.84084929]\n",
    "target_30_mm = [-0.05514753, 0.09176625, 0.00345952, -1.59441761, -0.00396328, 1.61631546, 0.84082899]\n",
    "target_36_mm = [-0.05523857, 0.09492149, 0.00338282, -1.57776986, -0.00396232, 1.60036405, 0.84081025]\n",
    "target_40_mm = [-0.05513947, 0.09566288, 0.00346119, -1.56383533, -0.00396267, 1.58957835, 0.84075323]\n",
    "target_46_mm = [-0.05523381, 0.09913632, 0.00338449, -1.54659639, -0.00396399, 1.57351597, 0.84075759]\n",
    "target_50_mm = [-0.05513489, 0.10048285, 0.00346119, -1.53197880, -0.00396267, 1.56242129, 0.84068724]\n",
    "target_56_mm = [-0.05521145, 0.10445451, 0.00338282, -1.51400512, -0.00396877, 1.54619678, 0.84069480]\n",
    "\n",
    "speed_factor = 0.1 # 0.1 is slow movements\n",
    "\n",
    "if True:\n",
    "  # DANGER - DURATION IS ACTUALLY SPEED FACTOR!!!\n",
    "  franka.move_joints(target_50_mm, speed_factor)"
   ]
  }
 ],
 "metadata": {
  "kernelspec": {
   "display_name": "Python 3.6.9 64-bit",
   "language": "python",
   "name": "python3"
  },
  "language_info": {
   "codemirror_mode": {
    "name": "ipython",
    "version": 3
   },
   "file_extension": ".py",
   "mimetype": "text/x-python",
   "name": "python",
   "nbconvert_exporter": "python",
   "pygments_lexer": "ipython3",
   "version": "3.6.9"
  },
  "orig_nbformat": 4,
  "vscode": {
   "interpreter": {
    "hash": "31f2aee4e71d21fbe5cf8b01ff0e069b9275f58929596ceb00d14d90e3e16cd6"
   }
  }
 },
 "nbformat": 4,
 "nbformat_minor": 2
}
